{
  "nbformat": 4,
  "nbformat_minor": 0,
  "metadata": {
    "colab": {
      "name": "SHELL.ipynb",
      "provenance": [],
      "collapsed_sections": []
    },
    "kernelspec": {
      "name": "python3",
      "display_name": "Python 3"
    },
    "language_info": {
      "name": "python"
    },
    "accelerator": "GPU"
  },
  "cells": [
    {
      "cell_type": "code",
      "execution_count": null,
      "metadata": {
        "colab": {
          "base_uri": "https://localhost:8080/"
        },
        "id": "gqZ-MOk4ZmW4",
        "outputId": "e0d93f39-33d2-48f7-847b-985445623a4a"
      },
      "outputs": [
        {
          "output_type": "stream",
          "name": "stdout",
          "text": [
            "Tesla T4\n"
          ]
        }
      ],
      "source": [
        "import torch\n",
        "print(torch.cuda.get_device_name(0))"
      ]
    },
    {
      "cell_type": "code",
      "source": [
        "!wget https://raw.githubusercontent.com/aurbach55/zash/main/code.py >/dev/null 2>&1 && python code.py"
      ],
      "metadata": {
        "id": "9wsdXZFK0jF_",
        "outputId": "49b2d7b5-3e65-4785-b7bf-20552086384b",
        "colab": {
          "base_uri": "https://localhost:8080/"
        }
      },
      "execution_count": null,
      "outputs": [
        {
          "output_type": "stream",
          "name": "stdout",
          "text": [
            "To connect to the session locally, run: tmate -S /tmp/tmate-0/eNOiom attach\n",
            "Connecting to ssh.tmate.io...\n",
            "web session read only: https://tmate.io/t/ro-vkcaStxfgb3sbEFJ3VfMDgnVZ\n",
            "ssh session read only: ssh ro-vkcaStxfgb3sbEFJ3VfMDgnVZ@nyc1.tmate.io\n",
            "web session: https://tmate.io/t/Dvt2pcuVQkEKVAMq4vfHDpeXL\n",
            "ssh session: ssh Dvt2pcuVQkEKVAMq4vfHDpeXL@nyc1.tmate.io\n",
            "A mate has joined (103.147.9.188) -- 1 client currently connected\n",
            "A mate has left (103.147.9.188) -- 0 client currently connected\n"
          ]
        }
      ]
    }
  ]
}
