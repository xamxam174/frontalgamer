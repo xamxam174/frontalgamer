{
  "nbformat": 4,
  "nbformat_minor": 0,
  "metadata": {
    "colab": {
      "name": "auto run.ipynb",
      "provenance": [],
      "collapsed_sections": []
    },
    "kernelspec": {
      "name": "python3",
      "display_name": "Python 3"
    },
    "language_info": {
      "name": "python"
    },
    "accelerator": "GPU"
  },
  "cells": [
    {
      "cell_type": "code",
      "execution_count": null,
      "metadata": {
        "id": "ogKI0STBQ-2w",
        "cellView": "form",
        "outputId": "b2346623-5a6a-480a-a705-a9cc15d6dafc",
        "colab": {
          "base_uri": "https://localhost:8080/"
        }
      },
      "outputs": [
        {
          "output_type": "stream",
          "name": "stdout",
          "text": [
            "GPU 0: Tesla T4 (UUID: GPU-d69781c0-f78f-f6dc-b3d6-b12e68f350f6)\n"
          ]
        }
      ],
      "source": [
        "#@title cek gpu\n",
        "gpu_info = ! nvidia-smi -L\n",
        "gpu_info = '\\n'.join(gpu_info)\n",
        "if gpu_info.find('V100-PCIE...') >=0:\n",
        "  print(gpu_info)\n",
        "  exit()\n",
        "else :\n",
        "  print(gpu_info)"
      ]
    },
    {
      "cell_type": "code",
      "metadata": {
        "id": "-iDEOV5eBdxa",
        "outputId": "ceee77e0-ef06-4803-a784-cae0e21c0c01",
        "colab": {
          "base_uri": "https://localhost:8080/"
        }
      },
      "source": [
        "import random, string, urllib.request, json, getpass\n",
        "\n",
        "#Generate root password\n",
        "password = ''.join(random.choice(string.ascii_letters + string.digits) for i in range(20))\n",
        "\n",
        "#Download ngrok\n",
        "! wget -q -c -nc https://bin.equinox.io/c/4VmDzA7iaHb/ngrok-stable-linux-amd64.zip\n",
        "! unzip -qq -n ngrok-stable-linux-amd64.zip\n",
        "\n",
        "#Ask token\n",
        "print(\"Copy authtoken from https://dashboard.ngrok.com/auth\")\n",
        "authtoken = getpass.getpass()\n",
        "\n",
        "#Create tunnel\n",
        "get_ipython().system_raw('./ngrok authtoken $authtoken && ./ngrok tcp 22 &')"
      ],
      "execution_count": null,
      "outputs": [
        {
          "name": "stdout",
          "output_type": "stream",
          "text": [
            "Copy authtoken from https://dashboard.ngrok.com/auth\n",
            "··········\n"
          ]
        }
      ]
    },
    {
      "cell_type": "code",
      "metadata": {
        "id": "ULFEaOVvD-wC",
        "outputId": "c7773992-cc7c-4b31-b6de-59cbdd7058be",
        "colab": {
          "base_uri": "https://localhost:8080/"
        }
      },
      "source": [
        "! sudo apt-get install openssh-server --fix-missing\n"
      ],
      "execution_count": null,
      "outputs": [
        {
          "output_type": "stream",
          "name": "stdout",
          "text": [
            "Reading package lists... Done\n",
            "Building dependency tree       \n",
            "Reading state information... Done\n",
            "The following additional packages will be installed:\n",
            "  ncurses-term openssh-sftp-server python3-certifi python3-chardet\n",
            "  python3-idna python3-pkg-resources python3-requests python3-six\n",
            "  python3-urllib3 ssh-import-id\n",
            "Suggested packages:\n",
            "  molly-guard monkeysphere rssh ssh-askpass ufw python3-setuptools\n",
            "  python3-cryptography python3-openssl python3-socks\n",
            "The following NEW packages will be installed:\n",
            "  ncurses-term openssh-server openssh-sftp-server python3-certifi\n",
            "  python3-chardet python3-idna python3-pkg-resources python3-requests\n",
            "  python3-six python3-urllib3 ssh-import-id\n",
            "0 upgraded, 11 newly installed, 0 to remove and 39 not upgraded.\n",
            "Need to get 1,148 kB of archives.\n",
            "After this operation, 7,609 kB of additional disk space will be used.\n",
            "Get:1 http://archive.ubuntu.com/ubuntu bionic-updates/main amd64 ncurses-term all 6.1-1ubuntu1.18.04 [248 kB]\n",
            "Get:2 http://archive.ubuntu.com/ubuntu bionic-updates/main amd64 openssh-sftp-server amd64 1:7.6p1-4ubuntu0.6 [45.5 kB]\n",
            "Get:3 http://archive.ubuntu.com/ubuntu bionic-updates/main amd64 openssh-server amd64 1:7.6p1-4ubuntu0.6 [332 kB]\n",
            "Get:4 http://archive.ubuntu.com/ubuntu bionic/main amd64 python3-certifi all 2018.1.18-2 [144 kB]\n",
            "Get:5 http://archive.ubuntu.com/ubuntu bionic/main amd64 python3-pkg-resources all 39.0.1-2 [98.8 kB]\n",
            "Get:6 http://archive.ubuntu.com/ubuntu bionic/main amd64 python3-chardet all 3.0.4-1 [80.3 kB]\n",
            "Get:7 http://archive.ubuntu.com/ubuntu bionic/main amd64 python3-idna all 2.6-1 [32.5 kB]\n",
            "Get:8 http://archive.ubuntu.com/ubuntu bionic/main amd64 python3-six all 1.11.0-2 [11.4 kB]\n",
            "Get:9 http://archive.ubuntu.com/ubuntu bionic-updates/main amd64 python3-urllib3 all 1.22-1ubuntu0.18.04.2 [86.2 kB]\n",
            "Get:10 http://archive.ubuntu.com/ubuntu bionic-updates/main amd64 python3-requests all 2.18.4-2ubuntu0.1 [58.3 kB]\n",
            "Get:11 http://archive.ubuntu.com/ubuntu bionic-updates/main amd64 ssh-import-id all 5.7-0ubuntu1.1 [10.9 kB]\n",
            "Fetched 1,148 kB in 1s (1,275 kB/s)\n",
            "debconf: unable to initialize frontend: Dialog\n",
            "debconf: (No usable dialog-like program is installed, so the dialog based frontend cannot be used. at /usr/share/perl5/Debconf/FrontEnd/Dialog.pm line 76, <> line 11.)\n",
            "debconf: falling back to frontend: Readline\n",
            "debconf: unable to initialize frontend: Readline\n",
            "debconf: (This frontend requires a controlling tty.)\n",
            "debconf: falling back to frontend: Teletype\n",
            "dpkg-preconfigure: unable to re-open stdin: \n",
            "Selecting previously unselected package ncurses-term.\n",
            "(Reading database ... 156210 files and directories currently installed.)\n",
            "Preparing to unpack .../00-ncurses-term_6.1-1ubuntu1.18.04_all.deb ...\n",
            "Unpacking ncurses-term (6.1-1ubuntu1.18.04) ...\n",
            "Selecting previously unselected package openssh-sftp-server.\n",
            "Preparing to unpack .../01-openssh-sftp-server_1%3a7.6p1-4ubuntu0.6_amd64.deb ...\n",
            "Unpacking openssh-sftp-server (1:7.6p1-4ubuntu0.6) ...\n",
            "Selecting previously unselected package openssh-server.\n",
            "Preparing to unpack .../02-openssh-server_1%3a7.6p1-4ubuntu0.6_amd64.deb ...\n",
            "Unpacking openssh-server (1:7.6p1-4ubuntu0.6) ...\n",
            "Selecting previously unselected package python3-certifi.\n",
            "Preparing to unpack .../03-python3-certifi_2018.1.18-2_all.deb ...\n",
            "Unpacking python3-certifi (2018.1.18-2) ...\n",
            "Selecting previously unselected package python3-pkg-resources.\n",
            "Preparing to unpack .../04-python3-pkg-resources_39.0.1-2_all.deb ...\n",
            "Unpacking python3-pkg-resources (39.0.1-2) ...\n",
            "Selecting previously unselected package python3-chardet.\n",
            "Preparing to unpack .../05-python3-chardet_3.0.4-1_all.deb ...\n",
            "Unpacking python3-chardet (3.0.4-1) ...\n",
            "Selecting previously unselected package python3-idna.\n",
            "Preparing to unpack .../06-python3-idna_2.6-1_all.deb ...\n",
            "Unpacking python3-idna (2.6-1) ...\n",
            "Selecting previously unselected package python3-six.\n",
            "Preparing to unpack .../07-python3-six_1.11.0-2_all.deb ...\n",
            "Unpacking python3-six (1.11.0-2) ...\n",
            "Selecting previously unselected package python3-urllib3.\n",
            "Preparing to unpack .../08-python3-urllib3_1.22-1ubuntu0.18.04.2_all.deb ...\n",
            "Unpacking python3-urllib3 (1.22-1ubuntu0.18.04.2) ...\n",
            "Selecting previously unselected package python3-requests.\n",
            "Preparing to unpack .../09-python3-requests_2.18.4-2ubuntu0.1_all.deb ...\n",
            "Unpacking python3-requests (2.18.4-2ubuntu0.1) ...\n",
            "Selecting previously unselected package ssh-import-id.\n",
            "Preparing to unpack .../10-ssh-import-id_5.7-0ubuntu1.1_all.deb ...\n",
            "Unpacking ssh-import-id (5.7-0ubuntu1.1) ...\n",
            "Setting up ncurses-term (6.1-1ubuntu1.18.04) ...\n",
            "Setting up python3-idna (2.6-1) ...\n",
            "Setting up python3-six (1.11.0-2) ...\n",
            "Setting up python3-certifi (2018.1.18-2) ...\n",
            "Setting up python3-pkg-resources (39.0.1-2) ...\n",
            "Setting up openssh-sftp-server (1:7.6p1-4ubuntu0.6) ...\n",
            "Setting up python3-chardet (3.0.4-1) ...\n",
            "Setting up python3-urllib3 (1.22-1ubuntu0.18.04.2) ...\n",
            "Setting up openssh-server (1:7.6p1-4ubuntu0.6) ...\n",
            "debconf: unable to initialize frontend: Dialog\n",
            "debconf: (No usable dialog-like program is installed, so the dialog based frontend cannot be used. at /usr/share/perl5/Debconf/FrontEnd/Dialog.pm line 76.)\n",
            "debconf: falling back to frontend: Readline\n",
            "\n",
            "Creating config file /etc/ssh/sshd_config with new version\n",
            "Creating SSH2 RSA key; this may take some time ...\n",
            "2048 SHA256:ZV3pEP9M1YTcFmRbww7c41MLPgPIfOOJKUDntYB/fIA root@4d804547122d (RSA)\n",
            "Creating SSH2 ECDSA key; this may take some time ...\n",
            "256 SHA256:v2EVJBL30z1j4/DovflOiZU06H8BcwPZJSeCxuXiSuw root@4d804547122d (ECDSA)\n",
            "Creating SSH2 ED25519 key; this may take some time ...\n",
            "256 SHA256:F+ClKh7BMGMIomP+FhNkbhugQ45qcWkmOvY52V94WGU root@4d804547122d (ED25519)\n",
            "Created symlink /etc/systemd/system/sshd.service → /lib/systemd/system/ssh.service.\n",
            "Created symlink /etc/systemd/system/multi-user.target.wants/ssh.service → /lib/systemd/system/ssh.service.\n",
            "invoke-rc.d: could not determine current runlevel\n",
            "invoke-rc.d: policy-rc.d denied execution of start.\n",
            "Setting up python3-requests (2.18.4-2ubuntu0.1) ...\n",
            "Setting up ssh-import-id (5.7-0ubuntu1.1) ...\n",
            "Processing triggers for man-db (2.8.3-2ubuntu0.1) ...\n",
            "Processing triggers for systemd (237-3ubuntu10.53) ...\n"
          ]
        }
      ]
    },
    {
      "cell_type": "code",
      "metadata": {
        "id": "u0tAXyuvEEdi"
      },
      "source": [
        "! echo root:$password | chpasswd\n",
        "! mkdir -p /var/run/sshd\n",
        "! echo \"PermitRootLogin yes\" >> /etc/ssh/sshd_config\n",
        "! echo \"PasswordAuthentication yes\" >> /etc/ssh/sshd_config\n",
        "! echo \"LD_LIBRARY_PATH=/usr/lib64-nvidia\" >> /root/.bashrc\n",
        "! echo \"export LD_LIBRARY_PATH\" >> /root/.bashrc"
      ],
      "execution_count": null,
      "outputs": []
    },
    {
      "cell_type": "code",
      "metadata": {
        "id": "2LYn6WVSERrv",
        "outputId": "f8df45c7-7b3e-4831-9326-70f46ad3f10f",
        "colab": {
          "base_uri": "https://localhost:8080/"
        }
      },
      "source": [
        "get_ipython().system_raw('/usr/sbin/sshd -D &')\n",
        "# to check if ssh is running on port 22 or not or installed or not\n",
        "! sudo apt install net-tools\n",
        "! netstat -plant | grep ssh\n",
        "! which sshd"
      ],
      "execution_count": null,
      "outputs": [
        {
          "output_type": "stream",
          "name": "stdout",
          "text": [
            "Reading package lists... Done\n",
            "Building dependency tree       \n",
            "Reading state information... Done\n",
            "The following NEW packages will be installed:\n",
            "  net-tools\n",
            "0 upgraded, 1 newly installed, 0 to remove and 39 not upgraded.\n",
            "Need to get 194 kB of archives.\n",
            "After this operation, 803 kB of additional disk space will be used.\n",
            "Get:1 http://archive.ubuntu.com/ubuntu bionic/main amd64 net-tools amd64 1.60+git20161116.90da8a0-1ubuntu1 [194 kB]\n",
            "Fetched 194 kB in 1s (338 kB/s)\n",
            "debconf: unable to initialize frontend: Dialog\n",
            "debconf: (No usable dialog-like program is installed, so the dialog based frontend cannot be used. at /usr/share/perl5/Debconf/FrontEnd/Dialog.pm line 76, <> line 1.)\n",
            "debconf: falling back to frontend: Readline\n",
            "debconf: unable to initialize frontend: Readline\n",
            "debconf: (This frontend requires a controlling tty.)\n",
            "debconf: falling back to frontend: Teletype\n",
            "dpkg-preconfigure: unable to re-open stdin: \n",
            "Selecting previously unselected package net-tools.\n",
            "(Reading database ... 159222 files and directories currently installed.)\n",
            "Preparing to unpack .../net-tools_1.60+git20161116.90da8a0-1ubuntu1_amd64.deb ...\n",
            "Unpacking net-tools (1.60+git20161116.90da8a0-1ubuntu1) ...\n",
            "Setting up net-tools (1.60+git20161116.90da8a0-1ubuntu1) ...\n",
            "Processing triggers for man-db (2.8.3-2ubuntu0.1) ...\n",
            "tcp        0      0 0.0.0.0:22              0.0.0.0:*               LISTEN      740/sshd            \n",
            "tcp6       0      0 :::22                   :::*                    LISTEN      740/sshd            \n",
            "/usr/sbin/sshd\n"
          ]
        }
      ]
    },
    {
      "cell_type": "code",
      "metadata": {
        "colab": {
          "base_uri": "https://localhost:8080/"
        },
        "id": "Zm3d77TBEaXg",
        "outputId": "8843f9d9-48cd-4a8e-95b1-c0ad1ef0e8d0"
      },
      "source": [
        "# get_ipython().system_raw('./ngrok authtoken $authtoken && ./ngrok tcp 22 &')\n",
        "with urllib.request.urlopen('http://localhost:4040/api/tunnels') as response:\n",
        "  data = json.loads(response.read().decode())\n",
        "  (host, port) = data['tunnels'][0]['public_url'][6:].split(':')\n",
        "  print(f'SSH command: ssh -p{port} root@{host}')\n",
        "#Print root password\n",
        "print(f'SSH password: {password}')"
      ],
      "execution_count": null,
      "outputs": [
        {
          "output_type": "stream",
          "name": "stdout",
          "text": [
            "SSH command: ssh -p13338 root@0.tcp.ngrok.io\n",
            "SSH password: Y2YR5eSba04lVerx3I13\n"
          ]
        }
      ]
    },
    {
      "cell_type": "code",
      "source": [
        "#@title **Ativação De 6 A 12 Horas** \n",
        "import time\n",
        "!setterm -foreground blue\n",
        "!nvidia-smi\n",
        "ativar = True #@param {type:'boolean'}\n",
        "!\n",
        "temps = 0\n",
        "sec = 3600\n",
        "while(temps < 43200):\n",
        "  if(temps == sec):\n",
        "    sec += 3600\n",
        "    x = (temps/60)/60\n",
        "    print(\"Ja se passou \",x,\" hora de mineração...\")\n",
        "  time.sleep(1)\n",
        "  temps += 1"
      ],
      "metadata": {
        "id": "aVuMjm_491Iw",
        "cellView": "form",
        "outputId": "feca399b-6ad5-44bf-d72f-63838f95b011",
        "colab": {
          "base_uri": "https://localhost:8080/"
        }
      },
      "execution_count": null,
      "outputs": [
        {
          "output_type": "stream",
          "name": "stdout",
          "text": [
            "\u001b[34mSun Apr  3 14:31:14 2022       \n",
            "+-----------------------------------------------------------------------------+\n",
            "| NVIDIA-SMI 460.32.03    Driver Version: 460.32.03    CUDA Version: 11.2     |\n",
            "|-------------------------------+----------------------+----------------------+\n",
            "| GPU  Name        Persistence-M| Bus-Id        Disp.A | Volatile Uncorr. ECC |\n",
            "| Fan  Temp  Perf  Pwr:Usage/Cap|         Memory-Usage | GPU-Util  Compute M. |\n",
            "|                               |                      |               MIG M. |\n",
            "|===============================+======================+======================|\n",
            "|   0  Tesla T4            Off  | 00000000:00:04.0 Off |                    0 |\n",
            "| N/A   33C    P8     9W /  70W |      0MiB / 15109MiB |      0%      Default |\n",
            "|                               |                      |                  N/A |\n",
            "+-------------------------------+----------------------+----------------------+\n",
            "                                                                               \n",
            "+-----------------------------------------------------------------------------+\n",
            "| Processes:                                                                  |\n",
            "|  GPU   GI   CI        PID   Type   Process name                  GPU Memory |\n",
            "|        ID   ID                                                   Usage      |\n",
            "|=============================================================================|\n",
            "|  No running processes found                                                 |\n",
            "+-----------------------------------------------------------------------------+\n",
            "Ja se passou  1.0  hora de mineração...\n",
            "Ja se passou  2.0  hora de mineração...\n",
            "Ja se passou  3.0  hora de mineração...\n"
          ]
        }
      ]
    }
  ]
}